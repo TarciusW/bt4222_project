{
 "cells": [
  {
   "cell_type": "markdown",
   "source": [
    "# Dataset Preparation\n",
    "## Image Rotation & train/validation/test split"
   ],
   "metadata": {
    "collapsed": false
   }
  },
  {
   "cell_type": "code",
   "execution_count": 12,
   "outputs": [],
   "source": [
    "import glob\n",
    "from shutil import copyfile, move\n",
    "import os\n",
    "import cv2\n",
    "from sklearn.model_selection import train_test_split\n",
    "from matplotlib import pyplot as plt"
   ],
   "metadata": {
    "collapsed": false
   }
  },
  {
   "cell_type": "code",
   "execution_count": 26,
   "outputs": [],
   "source": [
    "image_dirs = ['image_data/raw/hostile_images', 'image_data/raw/non_hostile_images']"
   ],
   "metadata": {
    "collapsed": false
   }
  },
  {
   "cell_type": "markdown",
   "source": [
    "### Flipping Hostile Images"
   ],
   "metadata": {
    "collapsed": false
   }
  },
  {
   "cell_type": "code",
   "execution_count": 35,
   "outputs": [],
   "source": [
    "# Augment objects by flipping objects vertically & horizontally\n",
    "images = glob.glob('image_data/raw/hostile_images/*')\n",
    "for img in images:\n",
    "    i = cv2.imread(img)\n",
    "    cv2.imwrite('image_data/processed/hostile_images' + '/flip1_' + os.path.basename(img), i)\n",
    "    i = cv2.flip(i, 1)\n",
    "    cv2.imwrite('image_data/processed/hostile_images' + '/flip2_' + os.path.basename(img), i)\n",
    "    i = cv2.flip(i, -1)\n",
    "    cv2.imwrite('image_data/processed/hostile_images' + '/flip3_' + os.path.basename(img), i)\n",
    "    i = cv2.flip(i, 1)\n",
    "    cv2.imwrite('image_data/processed/hostile_images' + '/flip4_' + os.path.basename(img), i)"
   ],
   "metadata": {
    "collapsed": false
   }
  },
  {
   "cell_type": "markdown",
   "source": [
    "### Flipping Non-hostile images"
   ],
   "metadata": {
    "collapsed": false
   }
  },
  {
   "cell_type": "code",
   "execution_count": 37,
   "outputs": [],
   "source": [
    "# Augment objects by flipping objects vertically & horizontally\n",
    "images = glob.glob('image_data/raw/non_hostile_images/*')\n",
    "for img in images:\n",
    "    i = cv2.imread(img)\n",
    "    cv2.imwrite('image_data/processed/non_hostile_images' + '/flip1_' + os.path.basename(img), i)\n",
    "    i = cv2.flip(i, 1)\n",
    "    cv2.imwrite('image_data/processed/non_hostile_images' + '/flip2_' + os.path.basename(img), i)\n",
    "    i = cv2.flip(i, -1)\n",
    "    cv2.imwrite('image_data/processed/non_hostile_images' + '/flip3_' + os.path.basename(img), i)\n",
    "    i = cv2.flip(i, 1)\n",
    "    cv2.imwrite('image_data/processed/non_hostile_images' + '/flip4_' + os.path.basename(img), i)"
   ],
   "metadata": {
    "collapsed": false
   }
  }
 ],
 "metadata": {
  "kernelspec": {
   "display_name": "Python 3",
   "language": "python",
   "name": "python3"
  },
  "language_info": {
   "codemirror_mode": {
    "name": "ipython",
    "version": 2
   },
   "file_extension": ".py",
   "mimetype": "text/x-python",
   "name": "python",
   "nbconvert_exporter": "python",
   "pygments_lexer": "ipython2",
   "version": "2.7.6"
  }
 },
 "nbformat": 4,
 "nbformat_minor": 0
}
