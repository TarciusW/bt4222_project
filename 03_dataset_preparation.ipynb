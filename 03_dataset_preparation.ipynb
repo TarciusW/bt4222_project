{
 "cells": [
  {
   "cell_type": "markdown",
   "source": [
    "# Dataset Preparation\n",
    "## Image Rotation & train/validation/test split"
   ],
   "metadata": {
    "collapsed": false
   }
  },
  {
   "cell_type": "code",
   "execution_count": 12,
   "outputs": [],
   "source": [
    "import glob\n",
    "from shutil import copyfile, move\n",
    "import os\n",
    "import cv2\n",
    "from sklearn.model_selection import train_test_split\n",
    "from matplotlib import pyplot as plt"
   ],
   "metadata": {
    "collapsed": false
   }
  },
  {
   "cell_type": "markdown",
   "source": [
    "### Flipping Hostile Images"
   ],
   "metadata": {
    "collapsed": false
   }
  },
  {
   "cell_type": "code",
   "execution_count": 35,
   "outputs": [],
   "source": [
    "# Augment objects by flipping objects vertically & horizontally\n",
    "images = glob.glob('image_data/raw/hostile_images/*')\n",
    "for img in images:\n",
    "    i = cv2.imread(img)\n",
    "    cv2.imwrite('image_data/processed/hostile_images' + '/flip1_' + os.path.basename(img), i)\n",
    "    i = cv2.flip(i, 1)\n",
    "    cv2.imwrite('image_data/processed/hostile_images' + '/flip2_' + os.path.basename(img), i)\n",
    "    i = cv2.flip(i, -1)\n",
    "    cv2.imwrite('image_data/processed/hostile_images' + '/flip3_' + os.path.basename(img), i)\n",
    "    i = cv2.flip(i, 1)\n",
    "    cv2.imwrite('image_data/processed/hostile_images' + '/flip4_' + os.path.basename(img), i)"
   ],
   "metadata": {
    "collapsed": false
   }
  },
  {
   "cell_type": "markdown",
   "source": [
    "### Flipping Non-hostile images"
   ],
   "metadata": {
    "collapsed": false
   }
  },
  {
   "cell_type": "code",
   "execution_count": 37,
   "outputs": [],
   "source": [
    "# Augment objects by flipping objects vertically & horizontally\n",
    "images = glob.glob('image_data/raw/non_hostile_images/*')\n",
    "for img in images:\n",
    "    i = cv2.imread(img)\n",
    "    cv2.imwrite('image_data/processed/non_hostile_images' + '/flip1_' + os.path.basename(img), i)\n",
    "    i = cv2.flip(i, 1)\n",
    "    cv2.imwrite('image_data/processed/non_hostile_images' + '/flip2_' + os.path.basename(img), i)\n",
    "    i = cv2.flip(i, -1)\n",
    "    cv2.imwrite('image_data/processed/non_hostile_images' + '/flip3_' + os.path.basename(img), i)\n",
    "    i = cv2.flip(i, 1)\n",
    "    cv2.imwrite('image_data/processed/non_hostile_images' + '/flip4_' + os.path.basename(img), i)"
   ],
   "metadata": {
    "collapsed": false
   }
  },
  {
   "cell_type": "markdown",
   "source": [
    "## Train Test Split"
   ],
   "metadata": {
    "collapsed": false
   }
  },
  {
   "cell_type": "markdown",
   "source": [
    "### Create train folder & dataset"
   ],
   "metadata": {
    "collapsed": false
   }
  },
  {
   "cell_type": "code",
   "execution_count": 45,
   "outputs": [],
   "source": [
    "image_dirs = [['image_data/processed/hostile_images', 'hostile_images'],\n",
    "              ['image_data/processed/non_hostile_images', 'non_hostile_images']]\n",
    "for image_dir in image_dirs:\n",
    "    counter = 0\n",
    "    sub_dirs = glob.glob(image_dir[0] + '/*')\n",
    "    for image in sub_dirs:\n",
    "        copyfile(image, 'train/' + image_dir[1] + '/' + str(counter) + '.jpg')\n",
    "        counter += 1"
   ],
   "metadata": {
    "collapsed": false
   }
  },
  {
   "cell_type": "markdown",
   "source": [
    "### Move images over to test / validation set, 70/20/10% split for train/valid/test"
   ],
   "metadata": {
    "collapsed": false
   }
  },
  {
   "cell_type": "markdown",
   "source": [
    "#### Move to test dataset"
   ],
   "metadata": {
    "collapsed": false
   }
  },
  {
   "cell_type": "code",
   "execution_count": 46,
   "outputs": [],
   "source": [
    "for image_dir in image_dirs:\n",
    "    all_images = glob.glob('train/' + image_dir[1] + '/*')\n",
    "    _ , test_images = train_test_split(all_images,shuffle=True,test_size = .1)\n",
    "    for image in test_images:\n",
    "        move(image,'test/' + image_dir[1] + '/' + os.path.basename(image))"
   ],
   "metadata": {
    "collapsed": false
   }
  },
  {
   "cell_type": "markdown",
   "source": [
    "#### Move to valid dataset"
   ],
   "metadata": {
    "collapsed": false
   }
  },
  {
   "cell_type": "code",
   "execution_count": 47,
   "outputs": [],
   "source": [
    "for image_dir in image_dirs:\n",
    "    all_images = glob.glob('train/' + image_dir[1] + '/*')\n",
    "    _ , test_images = train_test_split(all_images,shuffle=True,test_size = .1)\n",
    "    for image in test_images:\n",
    "        move(image,'valid/' + image_dir[1] + '/' + os.path.basename(image))"
   ],
   "metadata": {
    "collapsed": false
   }
  }
 ],
 "metadata": {
  "kernelspec": {
   "display_name": "Python 3",
   "language": "python",
   "name": "python3"
  },
  "language_info": {
   "codemirror_mode": {
    "name": "ipython",
    "version": 2
   },
   "file_extension": ".py",
   "mimetype": "text/x-python",
   "name": "python",
   "nbconvert_exporter": "python",
   "pygments_lexer": "ipython2",
   "version": "2.7.6"
  }
 },
 "nbformat": 4,
 "nbformat_minor": 0
}
