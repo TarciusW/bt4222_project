{
 "cells": [
  {
   "cell_type": "code",
   "execution_count": 1,
   "outputs": [],
   "source": [
    "from bs4 import BeautifulSoup\n",
    "import requests\n",
    "import random\n",
    "import os\n",
    "import urllib.request"
   ],
   "metadata": {
    "collapsed": false
   }
  },
  {
   "cell_type": "markdown",
   "source": [
    "# Web Scraping: Hostile object detection\n"
   ],
   "metadata": {
    "collapsed": false
   }
  },
  {
   "cell_type": "markdown",
   "source": [
    "## Hostile object: Knife"
   ],
   "metadata": {
    "collapsed": false
   }
  },
  {
   "cell_type": "markdown",
   "source": [
    "### Ikea"
   ],
   "metadata": {
    "collapsed": false
   }
  },
  {
   "cell_type": "code",
   "execution_count": 2,
   "outputs": [],
   "source": [
    "website = 'https://www.ikea.com/sg/en/cat/knives-15946/?page=2'\n",
    "user_agents_list = [\n",
    "    'Mozilla/5.0 (iPad; CPU OS 12_2 like Mac OS X) AppleWebKit/605.1.15 (KHTML, like Gecko) Mobile/15E148',\n",
    "    'Mozilla/5.0 (Macintosh; Intel Mac OS X 10_15_7) AppleWebKit/537.36 (KHTML, like Gecko) Chrome/99.0.4844.83 Safari/537.36',\n",
    "    'Mozilla/5.0 (Windows NT 10.0; Win64; x64) AppleWebKit/537.36 (KHTML, like Gecko) Chrome/99.0.4844.51 Safari/537.36'\n",
    "]\n",
    "data_dir = 'image_data/raw/hostile_images'\n",
    "page = requests.get(website, headers={'User-Agent': random.choice(user_agents_list), 'referer': 'https://...'})\n",
    "soup = BeautifulSoup(page.content, 'html.parser')\n",
    "knife_objects = soup.find_all('div', attrs={'class': 'plp-fragment-wrapper'})"
   ],
   "metadata": {
    "collapsed": false
   }
  },
  {
   "cell_type": "code",
   "execution_count": 22,
   "outputs": [
    {
     "name": "stdout",
     "output_type": "stream",
     "text": [
      "NewAVSTEG Knife holder, 23 cm$9.90 https://www.ikea.com/sg/en/p/avsteg-knife-holder-bamboo-white-50497719/\n",
      "HYVLA Knife block$17.90 https://www.ikea.com/sg/en/p/hyvla-knife-block-bamboo-40307833/\n",
      "JÄMFÖRA Knife block with 3 knives$32.90 https://www.ikea.com/sg/en/p/jaemfoera-knife-block-with-3-knives-black-90346832/\n",
      "ÄNDLIG Chinese chopper, 18 cm$9.90 https://www.ikea.com/sg/en/p/aendlig-chinese-chopper-light-grey-white-10257622/\n",
      "ÄNDLIG 3-piece knife set$9.90 https://www.ikea.com/sg/en/p/aendlig-3-piece-knife-set-light-grey-white-90257623/\n",
      "NewUPPFYLLD Paring knife, set of 3$5.90 https://www.ikea.com/sg/en/p/uppfylld-paring-knife-set-of-3-mixed-colours-10521943/\n",
      "IKEA 365+ 3-piece knife set$49.90 https://www.ikea.com/sg/en/p/ikea-365-3-piece-knife-set-30454966/\n",
      "VÖRDA Vegetable knife, 16 cm$12.90 https://www.ikea.com/sg/en/p/voerda-vegetable-knife-black-30289245/\n",
      "IKEA 365+ Knife block, 13x24 cm$25.90 https://www.ikea.com/sg/en/p/ikea-365-knife-block-30286398/\n",
      "VÖRDA Utility knife, 14 cm$10.90 https://www.ikea.com/sg/en/p/voerda-utility-knife-black-90289247/\n",
      "FÖRSLAG 3-piece knife set$14.90 https://www.ikea.com/sg/en/p/foerslag-3-piece-knife-set-30346830/\n",
      "FÖRDUBBLA 2-piece knife set$3.50 https://www.ikea.com/sg/en/p/foerdubbla-2-piece-knife-set-grey-80436791/\n",
      "IKEA 365+ Bread knife, 23 cm$29.90 https://www.ikea.com/sg/en/p/ikea-365-bread-knife-stainless-steel-90283518/\n",
      "VÖRDA Cleaver, 19 cm$25.90 https://www.ikea.com/sg/en/p/voerda-cleaver-black-40289160/\n",
      "SMÅBIT Knife and peeler$8.90 https://www.ikea.com/sg/en/p/smabit-knife-and-peeler-black-white-60286405/\n",
      "VÖRDA Cook's knife, 20 cm$15.90 https://www.ikea.com/sg/en/p/voerda-cooks-knife-black-00289237/\n",
      "IKEA 365+ Vegetable knife, 16 cm$25.90 https://www.ikea.com/sg/en/p/ikea-365-vegetable-knife-stainless-steel-90287936/\n",
      "VARDAGEN Paring knife, 9 cm$11.90 https://www.ikea.com/sg/en/p/vardagen-paring-knife-dark-grey-40294717/\n",
      "IKEA 365+ Paring knife, 9 cm$12.90 https://www.ikea.com/sg/en/p/ikea-365-paring-knife-stainless-steel-50283520/\n",
      "VÖRDA Chinese chopper, 18 cm$17.90 https://www.ikea.com/sg/en/p/voerda-chinese-chopper-black-80289163/\n",
      "IKEA 365+ Cook's knife, 16 cm$25.90More optionsMore optionsIKEA 365+ Cook's knife 16 cm https://www.ikea.com/sg/en/p/ikea-365-cooks-knife-stainless-steel-90283523/\n",
      "VARDAGEN Vegetable knife, 16 cm$15.90 https://www.ikea.com/sg/en/p/vardagen-vegetable-knife-dark-grey-00294719/\n",
      "VARDAGEN Cook's knife, 20 cm$22.90 https://www.ikea.com/sg/en/p/vardagen-cooks-knife-dark-grey-20294723/\n",
      "IKEA 365+ Utility knife, 14 cm$19.90 https://www.ikea.com/sg/en/p/ikea-365-utility-knife-stainless-steel-30283516/\n"
     ]
    }
   ],
   "source": [
    "product_data = []\n",
    "for item in knife_objects:\n",
    "    knife = item.contents[0].contents[0].contents[0]\n",
    "    product_name = item.contents[0].text.strip()\n",
    "    product_link = knife.attrs['href']\n",
    "    print(product_name, product_link)\n",
    "    product_data.append([product_name, product_link])"
   ],
   "metadata": {
    "collapsed": false
   }
  },
  {
   "cell_type": "code",
   "execution_count": 47,
   "outputs": [
    {
     "data": {
      "text/plain": "[['ÄNDLIG Chinese chopper, 18 cm$9.90',\n  'https://www.ikea.com/sg/en/p/aendlig-chinese-chopper-light-grey-white-10257622/'],\n ['ÄNDLIG 3-piece knife set$9.90',\n  'https://www.ikea.com/sg/en/p/aendlig-3-piece-knife-set-light-grey-white-90257623/'],\n ['NewUPPFYLLD Paring knife, set of 3$5.90',\n  'https://www.ikea.com/sg/en/p/uppfylld-paring-knife-set-of-3-mixed-colours-10521943/'],\n ['IKEA 365+ 3-piece knife set$49.90',\n  'https://www.ikea.com/sg/en/p/ikea-365-3-piece-knife-set-30454966/'],\n ['VÖRDA Vegetable knife, 16 cm$12.90',\n  'https://www.ikea.com/sg/en/p/voerda-vegetable-knife-black-30289245/'],\n ['VÖRDA Utility knife, 14 cm$10.90',\n  'https://www.ikea.com/sg/en/p/voerda-utility-knife-black-90289247/'],\n ['FÖRSLAG 3-piece knife set$14.90',\n  'https://www.ikea.com/sg/en/p/foerslag-3-piece-knife-set-30346830/'],\n ['FÖRDUBBLA 2-piece knife set$3.50',\n  'https://www.ikea.com/sg/en/p/foerdubbla-2-piece-knife-set-grey-80436791/'],\n ['IKEA 365+ Bread knife, 23 cm$29.90',\n  'https://www.ikea.com/sg/en/p/ikea-365-bread-knife-stainless-steel-90283518/'],\n ['VÖRDA Cleaver, 19 cm$25.90',\n  'https://www.ikea.com/sg/en/p/voerda-cleaver-black-40289160/'],\n ['SMÅBIT Knife and peeler$8.90',\n  'https://www.ikea.com/sg/en/p/smabit-knife-and-peeler-black-white-60286405/'],\n [\"VÖRDA Cook's knife, 20 cm$15.90\",\n  'https://www.ikea.com/sg/en/p/voerda-cooks-knife-black-00289237/'],\n ['IKEA 365+ Vegetable knife, 16 cm$25.90',\n  'https://www.ikea.com/sg/en/p/ikea-365-vegetable-knife-stainless-steel-90287936/'],\n ['VARDAGEN Paring knife, 9 cm$11.90',\n  'https://www.ikea.com/sg/en/p/vardagen-paring-knife-dark-grey-40294717/'],\n ['IKEA 365+ Paring knife, 9 cm$12.90',\n  'https://www.ikea.com/sg/en/p/ikea-365-paring-knife-stainless-steel-50283520/'],\n ['VÖRDA Chinese chopper, 18 cm$17.90',\n  'https://www.ikea.com/sg/en/p/voerda-chinese-chopper-black-80289163/'],\n [\"IKEA 365+ Cook's knife, 16 cm$25.90More optionsMore optionsIKEA 365+ Cook's knife 16 cm\",\n  'https://www.ikea.com/sg/en/p/ikea-365-cooks-knife-stainless-steel-90283523/'],\n ['VARDAGEN Vegetable knife, 16 cm$15.90',\n  'https://www.ikea.com/sg/en/p/vardagen-vegetable-knife-dark-grey-00294719/'],\n [\"VARDAGEN Cook's knife, 20 cm$22.90\",\n  'https://www.ikea.com/sg/en/p/vardagen-cooks-knife-dark-grey-20294723/'],\n ['IKEA 365+ Utility knife, 14 cm$19.90',\n  'https://www.ikea.com/sg/en/p/ikea-365-utility-knife-stainless-steel-30283516/']]"
     },
     "execution_count": 47,
     "metadata": {},
     "output_type": "execute_result"
    }
   ],
   "source": [
    "#clean list, removing knife blocks\n",
    "cleaned_product_data = [i for i in product_data if 'block' not in i[0]]\n",
    "cleaned_product_data = [i for i in cleaned_product_data if 'holder' not in i[0]]\n",
    "cleaned_product_data"
   ],
   "metadata": {
    "collapsed": false
   }
  },
  {
   "cell_type": "code",
   "execution_count": 48,
   "outputs": [
    {
     "name": "stdout",
     "output_type": "stream",
     "text": [
      "Image: 1, ÄNDLIG Chinese chopper, 18 cm$9.90 downloaded\n",
      "Image: 2, ÄNDLIG 3-piece knife set$9.90 downloaded\n",
      "Image: 3, NewUPPFYLLD Paring knife, set of 3$5.90 downloaded\n",
      "Image: 4, IKEA 365+ 3-piece knife set$49.90 downloaded\n",
      "Image: 5, VÖRDA Vegetable knife, 16 cm$12.90 downloaded\n",
      "Image: 6, VÖRDA Utility knife, 14 cm$10.90 downloaded\n",
      "Image: 7, FÖRSLAG 3-piece knife set$14.90 downloaded\n",
      "Image: 8, FÖRDUBBLA 2-piece knife set$3.50 downloaded\n",
      "Image: 9, IKEA 365+ Bread knife, 23 cm$29.90 downloaded\n",
      "Image: 10, VÖRDA Cleaver, 19 cm$25.90 downloaded\n",
      "Image: 11, SMÅBIT Knife and peeler$8.90 downloaded\n",
      "Image: 12, VÖRDA Cook's knife, 20 cm$15.90 downloaded\n",
      "Image: 13, IKEA 365+ Vegetable knife, 16 cm$25.90 downloaded\n",
      "Image: 14, VARDAGEN Paring knife, 9 cm$11.90 downloaded\n",
      "Image: 15, IKEA 365+ Paring knife, 9 cm$12.90 downloaded\n",
      "Image: 16, VÖRDA Chinese chopper, 18 cm$17.90 downloaded\n",
      "Image: 17, IKEA 365+ Cook's knife, 16 cm$25.90More optionsMore optionsIKEA 365+ Cook's knife 16 cm downloaded\n",
      "Image: 18, VARDAGEN Vegetable knife, 16 cm$15.90 downloaded\n",
      "Image: 19, VARDAGEN Cook's knife, 20 cm$22.90 downloaded\n",
      "Image: 20, IKEA 365+ Utility knife, 14 cm$19.90 downloaded\n"
     ]
    }
   ],
   "source": [
    "'''\n",
    "Download images and save them into their respective directory\n",
    "    Input: List containing names of subcategory and their page link\n",
    "    Output: List containing names and link of subcategory which failed to download\n",
    "'''\n",
    "\n",
    "\n",
    "def download_images(product_data):\n",
    "    skipped_data = []\n",
    "    counter = 0\n",
    "    for product_name, product_link in product_data:\n",
    "        product_dir = os.path.join(data_dir)\n",
    "        if not os.path.exists(product_dir):\n",
    "            os.makedirs(product_dir)\n",
    "        try:\n",
    "            product_page = requests.get(product_link)\n",
    "            soup = BeautifulSoup(product_page.text, 'html.parser')\n",
    "            image_tag = soup.find('div', {\n",
    "                'class': 'pip-media-grid__media-container pip-media-grid__xr-viewer-button-container'})\n",
    "            image_data = image_tag.contents[0].contents[0].contents[0]\n",
    "            img_link = image_data.attrs['src'][:image_data.attrs['src'].rfind('?')] + '?f=xxxs'\n",
    "            urllib.request.urlretrieve(img_link, product_dir + '/' + str(counter) + '.jpg')\n",
    "            counter += 1\n",
    "        except Exception as e:\n",
    "            print(e)\n",
    "            skipped_data.append([product_name, product_link])\n",
    "        print('Image: {}, {} downloaded'.format(counter, product_name))\n",
    "    return skipped_data\n",
    "\n",
    "\n",
    "skipped_data = download_images(cleaned_product_data)"
   ],
   "metadata": {
    "collapsed": false
   }
  },
  {
   "cell_type": "code",
   "execution_count": 32,
   "outputs": [
    {
     "data": {
      "text/plain": "[]"
     },
     "execution_count": 32,
     "metadata": {},
     "output_type": "execute_result"
    }
   ],
   "source": [
    "#check for any image not downloaded\n",
    "skipped_data"
   ],
   "metadata": {
    "collapsed": false
   }
  },
  {
   "cell_type": "markdown",
   "source": [
    "### Counter Strike: Global Offensive knife collection"
   ],
   "metadata": {
    "collapsed": false
   }
  },
  {
   "cell_type": "code",
   "execution_count": 12,
   "outputs": [],
   "source": [
    "website = 'https://eliteopknives.com/collections/csgo-collection'\n",
    "page = requests.get(website)\n",
    "soup = BeautifulSoup(page.content, 'html.parser')\n",
    "knife_objects = []\n",
    "while True:\n",
    "    #while there is a next page, go to the next page and take the knives\n",
    "    try:\n",
    "        #save knife objects\n",
    "        knife_objects.append(\n",
    "            soup.find_all('div', attrs={'class': \"grid__item grid__item--collection-template medium-up--one-half\"}))\n",
    "        #find next page button\n",
    "        next_page_button = soup.find('ul', attrs={'class': \"list--inline pagination\"}).contents[5].contents[1]\n",
    "        next_page_link = next_page_button.attrs['href']\n",
    "        page = requests.get('https://eliteopknives.com/' + next_page_link)\n",
    "        soup = BeautifulSoup(page.content, 'html.parser')\n",
    "    except:\n",
    "        break"
   ],
   "metadata": {
    "collapsed": false
   }
  },
  {
   "cell_type": "code",
   "execution_count": 13,
   "outputs": [],
   "source": [
    "knife_list = []\n",
    "#unpack results set\n",
    "for i in knife_objects:\n",
    "    for k in i:\n",
    "        knife_list.append(k)"
   ],
   "metadata": {
    "collapsed": false
   }
  },
  {
   "cell_type": "code",
   "execution_count": 14,
   "outputs": [
    {
     "data": {
      "text/plain": "78"
     },
     "execution_count": 14,
     "metadata": {},
     "output_type": "execute_result"
    }
   ],
   "source": [
    "len(knife_list)"
   ],
   "metadata": {
    "collapsed": false
   }
  },
  {
   "cell_type": "code",
   "execution_count": 28,
   "outputs": [
    {
     "name": "stdout",
     "output_type": "stream",
     "text": [
      "Image: 21, BLACK FLIP KNIFE downloaded\n",
      "Image: 22, BLACK HUNTSMAN POCKET KNIFE downloaded\n",
      "Image: 23, BLACK GUT KNIFE downloaded\n",
      "Image: 24, Black Falchion Knife downloaded\n",
      "Image: 25, BLACK GALAXY BUTTERFLY TRAINER downloaded\n",
      "Image: 26, BLACK GALAXY KARAMBIT downloaded\n",
      "Image: 27, BLUE BUTTERFLY TRAINER downloaded\n",
      "Image: 28, BLUE FLIP KNIFE downloaded\n",
      "Image: 29, BLUE HUNTSMAN POCKET KNIFE downloaded\n",
      "Image: 30, BLUE HUNTSMAN KNIFE downloaded\n",
      "Image: 31, Blue Falchion Knife downloaded\n",
      "Image: 32, BLUE KARAMBIT downloaded\n",
      "Image: 33, BLUE GUT KNIFE downloaded\n",
      "'NoneType' object has no attribute 'contents'\n",
      "Image: 33, CASE HARDENED FLIP KNIFE downloaded\n",
      "Image: 34, CASE HARDENED HUNTSMAN POCKET KNIFE downloaded\n",
      "Image: 35, CASE HARDENED HUNTSMAN KNIFE downloaded\n",
      "Image: 36, CASE HARDENED M9 BAYONET downloaded\n",
      "Image: 37, CHROME BUTTERFLY TRAINER downloaded\n",
      "Image: 38, Chrome Falchion Knife downloaded\n",
      "Image: 39, DOPPLER FLIP KNIFE downloaded\n",
      "Image: 40, DOPPLER BUTTERFLY TRAINER downloaded\n",
      "Image: 41, DOPPLER HUNTSMAN POCKET KNIFE downloaded\n",
      "Image: 42, DOPPLER HUNTSMAN KNIFE downloaded\n",
      "Image: 43, DOPPLER M9 BAYONET downloaded\n",
      "Image: 44, DOPPLER KARAMBIT downloaded\n",
      "Image: 45, DOPPLER GUT KNIFE downloaded\n",
      "Image: 46, Doppler Falchion Knife downloaded\n",
      "Image: 47, FADED RAINBOW BUTTERFLY TRAINER downloaded\n",
      "Image: 48, FADED RAINBOW FLIP KNIFE downloaded\n",
      "Image: 49, FIRE AND ICE KARAMBIT downloaded\n",
      "Image: 50, GALAXY GUT KNIFE downloaded\n",
      "Image: 51, Galaxy Falchion Knife downloaded\n",
      "Image: 52, Gold Falchion Knife downloaded\n",
      "'NoneType' object has no attribute 'contents'\n",
      "Image: 52, GOLD TIGER FLIP KNIFE downloaded\n",
      "Image: 53, GOLD TIGER HUNTSMAN KNIFE downloaded\n",
      "Image: 54, GOLD TIGER M9 BAYONET downloaded\n",
      "Image: 55, GOLD TIGER GUT KNIFE downloaded\n",
      "Image: 56, GOLD TIGER KARAMBIT downloaded\n",
      "Image: 57, GOLDEN TIGER HUNTSMAN POCKET KNIFE downloaded\n",
      "'NoneType' object has no attribute 'contents'\n",
      "Image: 57, HYPER BEAST X FLIP KNIFE downloaded\n",
      "Image: 58, HYPER BEAST X BUTTERFLY TRAINER downloaded\n",
      "Image: 59, HYPER BEAST X HUNTSMAN POCKET KNIFE downloaded\n",
      "Image: 60, HYPER BEAST X HUNTSMAN KNIFE downloaded\n",
      "Image: 61, HYPER BEAST X M9 BAYONET downloaded\n",
      "Image: 62, HYPER BEAST X KARAMBIT downloaded\n",
      "Image: 63, HYPER BEAST X GUT KNIFE downloaded\n",
      "Image: 64, Hyper Beast X Falchion Knife downloaded\n",
      "'NoneType' object has no attribute 'contents'\n",
      "Image: 64, MARBLE FADE FLIP KNIFE downloaded\n",
      "Image: 65, Marble Fade BUTTERFLY TRAINER downloaded\n",
      "Image: 66, MARBLE FADE M9 BAYONET downloaded\n",
      "Image: 67, MARBLE FADE KARAMBIT downloaded\n",
      "Image: 68, MARBLE FADE GUT KNIFE downloaded\n",
      "Image: 69, Marble Fade Falchion Knife downloaded\n",
      "Image: 70, MIDNIGHT BLACK BUTTERFLY TRAINER downloaded\n",
      "Image: 71, MIDNIGHT BLACK HUNTSMAN KNIFE downloaded\n",
      "Image: 72, BLACK M9 BAYONET downloaded\n",
      "Image: 73, BLACK KARAMBIT downloaded\n",
      "Image: 74, RAINBOW HUNTSMAN POCKET KNIFE downloaded\n",
      "Image: 75, RAINBOW HUNTSMAN KNIFE downloaded\n",
      "Image: 76, RAINBOW M9 BAYONET downloaded\n",
      "Image: 77, RAINBOW KARAMBIT downloaded\n",
      "Image: 78, RAINBOW GUT KNIFE downloaded\n",
      "Image: 79, Rainbow Falchion Knife downloaded\n",
      "'NoneType' object has no attribute 'contents'\n",
      "Image: 79, RED FLIP KNIFE downloaded\n",
      "Image: 80, RED HUNTSMAN POCKET KNIFE downloaded\n",
      "Image: 81, Red Falchion Knife downloaded\n",
      "Image: 82, RUBY RED HUNTSMAN KNIFE downloaded\n",
      "Image: 83, RED M9 BAYONET downloaded\n",
      "Image: 84, RED KARAMBIT downloaded\n",
      "Image: 85, BLUE M9 BAYONET downloaded\n",
      "Image: 86, RED GUT KNIFE downloaded\n",
      "Image: 87, SLAUGHTER RED BUTTERFLY TRAINER downloaded\n",
      "Image: 88, STONE WASHED M9 BAYONET downloaded\n",
      "Image: 89, STONEWASHED HUNTSMAN POCKET KNIFE downloaded\n",
      "Image: 90, STONEWASHED HUNTSMAN KNIFE downloaded\n",
      "Image: 91, WHITE BOMBER SHARK BUTTERFLY TRAINER downloaded\n",
      "Image: 92, WHITE GALAXY BUTTERFLY TRAINER downloaded\n",
      "Image: 93, WHITE GALAXY KARAMBIT downloaded\n"
     ]
    }
   ],
   "source": [
    "'''\n",
    "Download images and save them into their respective directory\n",
    "    Input: List containing names of subcategory and their page link\n",
    "    Output: List containing names and link of subcategory which failed to download\n",
    "'''\n",
    "data_dir = 'image_data/raw/hostile_images'\n",
    "\n",
    "\n",
    "def download_images(product_data):\n",
    "    skipped_data = []\n",
    "    counter = 20\n",
    "    for knife in product_data:\n",
    "        product_dir = os.path.join(data_dir)\n",
    "        if not os.path.exists(product_dir):\n",
    "            os.makedirs(product_dir)\n",
    "        try:\n",
    "            product_link = knife.contents[1].contents[1].attrs['href']\n",
    "            product_page = requests.get('https://eliteopknives.com/' + product_link)\n",
    "            soup = BeautifulSoup(product_page.text, 'html.parser')\n",
    "            product_name = soup.find('h1', {'class': 'product-single__title'}).get_text().strip()\n",
    "            image_tag = soup.find('div', {\n",
    "                'class': 'product-single__photo product-single__photo--has-thumbnails'})\n",
    "            image_data = image_tag.contents[1]\n",
    "            img_link = 'https:' + image_data.attrs['src'][:image_data.attrs['src'].rfind('?')] + '?f=xxxs'\n",
    "            urllib.request.urlretrieve(img_link, product_dir + '/' + str(counter) + '.jpg')\n",
    "            counter += 1\n",
    "        except Exception as e:\n",
    "            print(e)\n",
    "            skipped_data.append(knife)\n",
    "        print('Image: {}, {} downloaded'.format(counter, product_name))\n",
    "    return skipped_data\n",
    "\n",
    "\n",
    "skipped_data = download_images(knife_list)"
   ],
   "metadata": {
    "collapsed": false
   }
  },
  {
   "cell_type": "markdown",
   "source": [
    "## Hostile Object: Grenades"
   ],
   "metadata": {
    "collapsed": false
   }
  },
  {
   "cell_type": "code",
   "execution_count": 14,
   "outputs": [],
   "source": [
    "website = 'https://taginn-usa.com/hand-grenades.html'\n",
    "user_agents_list = [\n",
    "    'Mozilla/5.0 (iPad; CPU OS 12_2 like Mac OS X) AppleWebKit/605.1.15 (KHTML, like Gecko) Mobile/15E148',\n",
    "    'Mozilla/5.0 (Macintosh; Intel Mac OS X 10_15_7) AppleWebKit/537.36 (KHTML, like Gecko) Chrome/99.0.4844.83 Safari/537.36',\n",
    "    'Mozilla/5.0 (Windows NT 10.0; Win64; x64) AppleWebKit/537.36 (KHTML, like Gecko) Chrome/99.0.4844.51 Safari/537.36'\n",
    "]\n",
    "data_dir = 'image_data/raw/hostile_images'\n",
    "page = requests.get(website, headers={'User-Agent': random.choice(user_agents_list), 'referer': 'https://...'})\n",
    "soup = BeautifulSoup(page.content, 'html.parser')\n",
    "grenade_objects = soup.find_all('div', attrs={'class': 'item_product'})"
   ],
   "metadata": {
    "collapsed": false
   }
  },
  {
   "cell_type": "code",
   "execution_count": 16,
   "outputs": [
    {
     "name": "stdout",
     "output_type": "stream",
     "text": [
      "FBG -6mini https://taginn-usa.com/fbg--6mini.html\n",
      "FBG-4 https://taginn-usa.com/fbg-4-granata-imitacionnaja.html\n",
      "AFG-4 https://taginn-usa.com/afg-4-.html\n",
      "TAG-67 Hand grenade (Pack of 6) https://taginn-usa.com/tag-67-hand-grenade-pack-of-6.html\n",
      "TAG-67 Practice https://taginn-usa.com/tag-67-practice.html\n",
      "TAG-67 Paintball Edition (Pack of 6) https://taginn-usa.com/tag-67-paintball-edition-pack-of-6.html\n",
      "ТАG-19 Y(Pack of 6) https://taginn-usa.com/tag-19-ypack-of-6.html\n",
      "R2Bm EVO - Set of 6 Powder pyrotechnical hand grenades https://taginn-usa.com/r2bm-evo---set-of-6-powder-pyrotechnical-hand-grenades.html\n",
      "TAG-18 SMOKE WHITE https://taginn-usa.com/tag-18-smoke-white.html\n",
      "FBG - 6 2sec. - Sound Hand Grenade https://taginn-usa.com/fbg---6-2sec---sound-hand-grenade-pack-of-6---us-customers-only.html\n",
      "AFG - 6 - Hand Grenade (Pack of 6 - US customers only) https://taginn-usa.com/afg-6-hand-grenade-pack-of-6.html\n",
      "ТАG-19 (Pack of 6) https://taginn-usa.com/tag-19-pack-of-6.html\n"
     ]
    }
   ],
   "source": [
    "product_data = []\n",
    "for item in grenade_objects:\n",
    "    grenade = item.contents[1]\n",
    "    product_name = grenade.contents[5].text.strip()\n",
    "    product_link = grenade.contents[1].contents[1].attrs['href']\n",
    "    print(product_name, product_link)\n",
    "    product_data.append([product_name, product_link])"
   ],
   "metadata": {
    "collapsed": false
   }
  },
  {
   "cell_type": "code",
   "execution_count": 19,
   "outputs": [
    {
     "name": "stdout",
     "output_type": "stream",
     "text": [
      "Image: 94, FBG -6mini downloaded\n",
      "Image: 95, FBG-4 downloaded\n",
      "Image: 96, AFG-4 downloaded\n",
      "Image: 97, TAG-67 Hand grenade (Pack of 6) downloaded\n",
      "Image: 98, TAG-67 Practice downloaded\n",
      "Image: 99, TAG-67 Paintball Edition (Pack of 6) downloaded\n",
      "Image: 100, ТАG-19 Y(Pack of 6) downloaded\n",
      "Image: 101, R2Bm EVO - Set of 6 Powder pyrotechnical hand grenades downloaded\n",
      "Image: 102, TAG-18 SMOKE WHITE downloaded\n",
      "Image: 103, FBG - 6 2sec. - Sound Hand Grenade downloaded\n",
      "Image: 104, AFG - 6 - Hand Grenade (Pack of 6 - US customers only) downloaded\n",
      "Image: 105, ТАG-19 (Pack of 6) downloaded\n"
     ]
    }
   ],
   "source": [
    "'''\n",
    "Download images and save them into their respective directory\n",
    "    Input: List containing names of subcategory and their page link\n",
    "    Output: List containing names and link of subcategory which failed to download\n",
    "'''\n",
    "\n",
    "\n",
    "def download_images(product_data):\n",
    "    skipped_data = []\n",
    "    counter = 93\n",
    "    for product_name, product_link in product_data:\n",
    "        product_dir = os.path.join(data_dir)\n",
    "        if not os.path.exists(product_dir):\n",
    "            os.makedirs(product_dir)\n",
    "        try:\n",
    "            product_page = requests.get(product_link)\n",
    "            soup = BeautifulSoup(product_page.text, 'html.parser')\n",
    "            image_tag = soup.find('div', {'class': 'main_foto_page'})\n",
    "            image_data = image_tag.contents[1].contents[1]\n",
    "            img_link = 'https://taginn-usa.com/' + image_data.attrs['src']\n",
    "            #[:image_data.attrs['src'].rfind('?')] + '?f=xxxs'\n",
    "            urllib.request.urlretrieve(img_link, product_dir + '/' + str(counter) + '.jpg')\n",
    "            counter += 1\n",
    "        except Exception as e:\n",
    "            print(e)\n",
    "            skipped_data.append([product_name, product_link])\n",
    "        print('Image: {}, {} downloaded'.format(counter, product_name))\n",
    "    return skipped_data\n",
    "\n",
    "\n",
    "skipped_data = download_images(product_data)"
   ],
   "metadata": {
    "collapsed": false
   }
  },
  {
   "cell_type": "markdown",
   "source": [
    "## Hostile Object: Guns"
   ],
   "metadata": {
    "collapsed": false
   }
  },
  {
   "cell_type": "code",
   "execution_count": 35,
   "outputs": [],
   "source": [
    "website = 'https://www.csgodatabase.com/weapons/    '\n",
    "user_agents_list = [\n",
    "    'Mozilla/5.0 (iPad; CPU OS 12_2 like Mac OS X) AppleWebKit/605.1.15 (KHTML, like Gecko) Mobile/15E148',\n",
    "    'Mozilla/5.0 (Macintosh; Intel Mac OS X 10_15_7) AppleWebKit/537.36 (KHTML, like Gecko) Chrome/99.0.4844.83 Safari/537.36',\n",
    "    'Mozilla/5.0 (Windows NT 10.0; Win64; x64) AppleWebKit/537.36 (KHTML, like Gecko) Chrome/99.0.4844.51 Safari/537.36'\n",
    "]\n",
    "data_dir = 'image_data/raw/hostile_images'\n",
    "page = requests.get(website, headers={'User-Agent': random.choice(user_agents_list), 'referer': 'https://...'})\n",
    "soup = BeautifulSoup(page.content, 'html.parser')\n",
    "guns_data = soup.find_all('div', attrs={'class': 'col l2 m6 s6'})\n",
    "guns_data = guns_data[6:40] #the rest are knives"
   ],
   "metadata": {
    "collapsed": false
   }
  },
  {
   "cell_type": "code",
   "execution_count": 37,
   "outputs": [
    {
     "name": "stdout",
     "output_type": "stream",
     "text": [
      "CZ75-Auto https://www.csgodatabase.com/weapons/cz75-auto/\n",
      "Desert Eagle https://www.csgodatabase.com/weapons/desert-eagle/\n",
      "Dual Berettas https://www.csgodatabase.com/weapons/dual-berettas/\n",
      "Five-SeveN https://www.csgodatabase.com/weapons/five-seven/\n",
      "Glock-18 https://www.csgodatabase.com/weapons/glock-18/\n",
      "P2000 https://www.csgodatabase.com/weapons/p2000/\n",
      "P250 https://www.csgodatabase.com/weapons/p250/\n",
      "R8 Revolver https://www.csgodatabase.com/weapons/r8-revolver/\n",
      "Tec-9 https://www.csgodatabase.com/weapons/tec-9/\n",
      "USP-S https://www.csgodatabase.com/weapons/usp-s/\n",
      "AK-47 https://www.csgodatabase.com/weapons/ak-47/\n",
      "AUG https://www.csgodatabase.com/weapons/aug/\n",
      "AWP https://www.csgodatabase.com/weapons/awp/\n",
      "FAMAS https://www.csgodatabase.com/weapons/famas/\n",
      "G3SG1 https://www.csgodatabase.com/weapons/g3sg1/\n",
      "Galil AR https://www.csgodatabase.com/weapons/galil-ar/\n",
      "M4A1-S https://www.csgodatabase.com/weapons/m4a1-s/\n",
      "M4A4 https://www.csgodatabase.com/weapons/m4a4/\n",
      "SCAR-20 https://www.csgodatabase.com/weapons/scar-20/\n",
      "SG 553 https://www.csgodatabase.com/weapons/sg-553/\n",
      "SSG 08 https://www.csgodatabase.com/weapons/ssg-08/\n",
      "MAC-10 https://www.csgodatabase.com/weapons/mac-10/\n",
      "MP5-SD https://www.csgodatabase.com/weapons/mp5-sd/\n",
      "MP7 https://www.csgodatabase.com/weapons/mp7/\n",
      "MP9 https://www.csgodatabase.com/weapons/mp9/\n",
      "PP-Bizon https://www.csgodatabase.com/weapons/pp-bizon/\n",
      "P90 https://www.csgodatabase.com/weapons/p90/\n",
      "UMP-45 https://www.csgodatabase.com/weapons/ump-45/\n",
      "MAG-7 https://www.csgodatabase.com/weapons/mag-7/\n",
      "Nova https://www.csgodatabase.com/weapons/nova/\n",
      "Sawed-Off https://www.csgodatabase.com/weapons/sawed-off/\n",
      "XM1014 https://www.csgodatabase.com/weapons/xm1014/\n",
      "M249 https://www.csgodatabase.com/weapons/m249/\n",
      "Negev https://www.csgodatabase.com/weapons/negev/\n"
     ]
    }
   ],
   "source": [
    "guns_list = []\n",
    "for i in guns_data:\n",
    "    gun = i.contents[1]\n",
    "    gun_name = i.contents[1].contents[1].text.strip()\n",
    "    gun_link = 'https://www.csgodatabase.com' + gun.attrs['href']\n",
    "    print(gun_name, gun_link)\n",
    "    guns_list.append([gun_name, gun_link])"
   ],
   "metadata": {
    "collapsed": false
   }
  },
  {
   "cell_type": "code",
   "execution_count": 39,
   "outputs": [
    {
     "name": "stdout",
     "output_type": "stream",
     "text": [
      "Image: 106, CZ75-Auto downloaded\n",
      "Image: 107, Desert Eagle downloaded\n",
      "Image: 108, Dual Berettas downloaded\n",
      "Image: 109, Five-SeveN downloaded\n",
      "Image: 110, Glock-18 downloaded\n",
      "Image: 111, P2000 downloaded\n",
      "Image: 112, P250 downloaded\n",
      "Image: 113, R8 Revolver downloaded\n",
      "Image: 114, Tec-9 downloaded\n",
      "Image: 115, USP-S downloaded\n",
      "Image: 116, AK-47 downloaded\n",
      "Image: 117, AUG downloaded\n",
      "Image: 118, AWP downloaded\n",
      "Image: 119, FAMAS downloaded\n",
      "Image: 120, G3SG1 downloaded\n",
      "Image: 121, Galil AR downloaded\n",
      "Image: 122, M4A1-S downloaded\n",
      "Image: 123, M4A4 downloaded\n",
      "Image: 124, SCAR-20 downloaded\n",
      "Image: 125, SG 553 downloaded\n",
      "Image: 126, SSG 08 downloaded\n",
      "Image: 127, MAC-10 downloaded\n",
      "Image: 128, MP5-SD downloaded\n",
      "Image: 129, MP7 downloaded\n",
      "Image: 130, MP9 downloaded\n",
      "Image: 131, PP-Bizon downloaded\n",
      "Image: 132, P90 downloaded\n",
      "Image: 133, UMP-45 downloaded\n",
      "Image: 134, MAG-7 downloaded\n",
      "Image: 135, Nova downloaded\n",
      "Image: 136, Sawed-Off downloaded\n",
      "Image: 137, XM1014 downloaded\n",
      "Image: 138, M249 downloaded\n",
      "Image: 139, Negev downloaded\n"
     ]
    }
   ],
   "source": [
    "'''\n",
    "Download images and save them into their respective directory\n",
    "    Input: List containing names of subcategory and their page link\n",
    "    Output: List containing names and link of subcategory which failed to download\n",
    "'''\n",
    "\n",
    "\n",
    "def download_images(product_data):\n",
    "    skipped_data = []\n",
    "    counter = 105\n",
    "    for product_name, product_link in product_data:\n",
    "        product_dir = os.path.join(data_dir)\n",
    "        if not os.path.exists(product_dir):\n",
    "            os.makedirs(product_dir)\n",
    "        try:\n",
    "            product_page = requests.get(product_link)\n",
    "            soup = BeautifulSoup(product_page.text, 'html.parser')\n",
    "            image_tag = soup.find('div', {'class': 'col l4 m4 s12'})\n",
    "            image_data = image_tag.contents[1].contents[5]\n",
    "            img_link = image_data.attrs['src']\n",
    "            urllib.request.urlretrieve(img_link, product_dir + '/' + str(counter) + '.jpg')\n",
    "            counter += 1\n",
    "        except Exception as e:\n",
    "            print(e)\n",
    "            skipped_data.append([product_name, product_link])\n",
    "        print('Image: {}, {} downloaded'.format(counter, product_name))\n",
    "    return skipped_data\n",
    "\n",
    "\n",
    "skipped_data = download_images(guns_list)"
   ],
   "metadata": {
    "collapsed": false
   }
  }
 ],
 "metadata": {
  "kernelspec": {
   "display_name": "Python 3",
   "language": "python",
   "name": "python3"
  },
  "language_info": {
   "codemirror_mode": {
    "name": "ipython",
    "version": 2
   },
   "file_extension": ".py",
   "mimetype": "text/x-python",
   "name": "python",
   "nbconvert_exporter": "python",
   "pygments_lexer": "ipython2",
   "version": "2.7.6"
  }
 },
 "nbformat": 4,
 "nbformat_minor": 0
}
